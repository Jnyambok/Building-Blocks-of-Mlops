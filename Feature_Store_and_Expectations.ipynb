{
  "nbformat": 4,
  "nbformat_minor": 0,
  "metadata": {
    "colab": {
      "provenance": [],
      "authorship_tag": "ABX9TyPVH6eICO8w+cBckj8Aalor",
      "include_colab_link": true
    },
    "kernelspec": {
      "name": "python3",
      "display_name": "Python 3"
    },
    "language_info": {
      "name": "python"
    }
  },
  "cells": [
    {
      "cell_type": "markdown",
      "metadata": {
        "id": "view-in-github",
        "colab_type": "text"
      },
      "source": [
        "<a href=\"https://colab.research.google.com/github/Jnyambok/Building-Blocks-of-Mlops/blob/main/Feature_Store_and_Expectations.ipynb\" target=\"_parent\"><img src=\"https://colab.research.google.com/assets/colab-badge.svg\" alt=\"Open In Colab\"/></a>"
      ]
    },
    {
      "cell_type": "code",
      "execution_count": 1,
      "metadata": {
        "collapsed": true,
        "id": "goZFqhAaySpy"
      },
      "outputs": [],
      "source": [
        "#!pip install -U 'hopsworks[python,great_expectations]' --quiet"
      ]
    },
    {
      "cell_type": "code",
      "source": [
        "import pandas as pd\n",
        "trans_df = pd.read_csv(\"https://repo.hops.works/master/hopsworks-tutorials/data/card_fraud_data/transactions.csv\", parse_dates=[\"datetime\"])\n",
        "trans_df.head(3)\n",
        "profiles_df = pd.read_csv(\"https://repo.hops.works/master/hopsworks-tutorials/data/card_fraud_data/profiles.csv\", parse_dates=[\"birthdate\"])\n",
        "profiles_df.head(3)"
      ],
      "metadata": {
        "colab": {
          "base_uri": "https://localhost:8080/",
          "height": 143
        },
        "collapsed": true,
        "id": "8brkN_vUym4d",
        "outputId": "023ebfd1-6162-4878-e318-8473a777ed18"
      },
      "execution_count": 2,
      "outputs": [
        {
          "output_type": "execute_result",
          "data": {
            "text/plain": [
              "                  name sex                       mail  birthdate  \\\n",
              "0  Catherine Zimmerman   F  valenciajason@hotmail.com 1988-09-20   \n",
              "1     Michael Williams   M     brettkennedy@yahoo.com 1977-03-01   \n",
              "2      Jessica Krueger   F     marthacruz@hotmail.com 1947-09-10   \n",
              "\n",
              "                City Country            cc_num  \n",
              "0   Bryn Mawr-Skyway      US  4796807885357879  \n",
              "1  Gates-North Gates      US  4529266636192966  \n",
              "2         Greenfield      US  4922690008243953  "
            ],
            "text/html": [
              "\n",
              "  <div id=\"df-3c60cc13-63d0-42f1-84ff-7914d5d15f6f\" class=\"colab-df-container\">\n",
              "    <div>\n",
              "<style scoped>\n",
              "    .dataframe tbody tr th:only-of-type {\n",
              "        vertical-align: middle;\n",
              "    }\n",
              "\n",
              "    .dataframe tbody tr th {\n",
              "        vertical-align: top;\n",
              "    }\n",
              "\n",
              "    .dataframe thead th {\n",
              "        text-align: right;\n",
              "    }\n",
              "</style>\n",
              "<table border=\"1\" class=\"dataframe\">\n",
              "  <thead>\n",
              "    <tr style=\"text-align: right;\">\n",
              "      <th></th>\n",
              "      <th>name</th>\n",
              "      <th>sex</th>\n",
              "      <th>mail</th>\n",
              "      <th>birthdate</th>\n",
              "      <th>City</th>\n",
              "      <th>Country</th>\n",
              "      <th>cc_num</th>\n",
              "    </tr>\n",
              "  </thead>\n",
              "  <tbody>\n",
              "    <tr>\n",
              "      <th>0</th>\n",
              "      <td>Catherine Zimmerman</td>\n",
              "      <td>F</td>\n",
              "      <td>valenciajason@hotmail.com</td>\n",
              "      <td>1988-09-20</td>\n",
              "      <td>Bryn Mawr-Skyway</td>\n",
              "      <td>US</td>\n",
              "      <td>4796807885357879</td>\n",
              "    </tr>\n",
              "    <tr>\n",
              "      <th>1</th>\n",
              "      <td>Michael Williams</td>\n",
              "      <td>M</td>\n",
              "      <td>brettkennedy@yahoo.com</td>\n",
              "      <td>1977-03-01</td>\n",
              "      <td>Gates-North Gates</td>\n",
              "      <td>US</td>\n",
              "      <td>4529266636192966</td>\n",
              "    </tr>\n",
              "    <tr>\n",
              "      <th>2</th>\n",
              "      <td>Jessica Krueger</td>\n",
              "      <td>F</td>\n",
              "      <td>marthacruz@hotmail.com</td>\n",
              "      <td>1947-09-10</td>\n",
              "      <td>Greenfield</td>\n",
              "      <td>US</td>\n",
              "      <td>4922690008243953</td>\n",
              "    </tr>\n",
              "  </tbody>\n",
              "</table>\n",
              "</div>\n",
              "    <div class=\"colab-df-buttons\">\n",
              "\n",
              "  <div class=\"colab-df-container\">\n",
              "    <button class=\"colab-df-convert\" onclick=\"convertToInteractive('df-3c60cc13-63d0-42f1-84ff-7914d5d15f6f')\"\n",
              "            title=\"Convert this dataframe to an interactive table.\"\n",
              "            style=\"display:none;\">\n",
              "\n",
              "  <svg xmlns=\"http://www.w3.org/2000/svg\" height=\"24px\" viewBox=\"0 -960 960 960\">\n",
              "    <path d=\"M120-120v-720h720v720H120Zm60-500h600v-160H180v160Zm220 220h160v-160H400v160Zm0 220h160v-160H400v160ZM180-400h160v-160H180v160Zm440 0h160v-160H620v160ZM180-180h160v-160H180v160Zm440 0h160v-160H620v160Z\"/>\n",
              "  </svg>\n",
              "    </button>\n",
              "\n",
              "  <style>\n",
              "    .colab-df-container {\n",
              "      display:flex;\n",
              "      gap: 12px;\n",
              "    }\n",
              "\n",
              "    .colab-df-convert {\n",
              "      background-color: #E8F0FE;\n",
              "      border: none;\n",
              "      border-radius: 50%;\n",
              "      cursor: pointer;\n",
              "      display: none;\n",
              "      fill: #1967D2;\n",
              "      height: 32px;\n",
              "      padding: 0 0 0 0;\n",
              "      width: 32px;\n",
              "    }\n",
              "\n",
              "    .colab-df-convert:hover {\n",
              "      background-color: #E2EBFA;\n",
              "      box-shadow: 0px 1px 2px rgba(60, 64, 67, 0.3), 0px 1px 3px 1px rgba(60, 64, 67, 0.15);\n",
              "      fill: #174EA6;\n",
              "    }\n",
              "\n",
              "    .colab-df-buttons div {\n",
              "      margin-bottom: 4px;\n",
              "    }\n",
              "\n",
              "    [theme=dark] .colab-df-convert {\n",
              "      background-color: #3B4455;\n",
              "      fill: #D2E3FC;\n",
              "    }\n",
              "\n",
              "    [theme=dark] .colab-df-convert:hover {\n",
              "      background-color: #434B5C;\n",
              "      box-shadow: 0px 1px 3px 1px rgba(0, 0, 0, 0.15);\n",
              "      filter: drop-shadow(0px 1px 2px rgba(0, 0, 0, 0.3));\n",
              "      fill: #FFFFFF;\n",
              "    }\n",
              "  </style>\n",
              "\n",
              "    <script>\n",
              "      const buttonEl =\n",
              "        document.querySelector('#df-3c60cc13-63d0-42f1-84ff-7914d5d15f6f button.colab-df-convert');\n",
              "      buttonEl.style.display =\n",
              "        google.colab.kernel.accessAllowed ? 'block' : 'none';\n",
              "\n",
              "      async function convertToInteractive(key) {\n",
              "        const element = document.querySelector('#df-3c60cc13-63d0-42f1-84ff-7914d5d15f6f');\n",
              "        const dataTable =\n",
              "          await google.colab.kernel.invokeFunction('convertToInteractive',\n",
              "                                                    [key], {});\n",
              "        if (!dataTable) return;\n",
              "\n",
              "        const docLinkHtml = 'Like what you see? Visit the ' +\n",
              "          '<a target=\"_blank\" href=https://colab.research.google.com/notebooks/data_table.ipynb>data table notebook</a>'\n",
              "          + ' to learn more about interactive tables.';\n",
              "        element.innerHTML = '';\n",
              "        dataTable['output_type'] = 'display_data';\n",
              "        await google.colab.output.renderOutput(dataTable, element);\n",
              "        const docLink = document.createElement('div');\n",
              "        docLink.innerHTML = docLinkHtml;\n",
              "        element.appendChild(docLink);\n",
              "      }\n",
              "    </script>\n",
              "  </div>\n",
              "\n",
              "\n",
              "<div id=\"df-69b261c2-459d-4b21-b878-0d98522597f0\">\n",
              "  <button class=\"colab-df-quickchart\" onclick=\"quickchart('df-69b261c2-459d-4b21-b878-0d98522597f0')\"\n",
              "            title=\"Suggest charts\"\n",
              "            style=\"display:none;\">\n",
              "\n",
              "<svg xmlns=\"http://www.w3.org/2000/svg\" height=\"24px\"viewBox=\"0 0 24 24\"\n",
              "     width=\"24px\">\n",
              "    <g>\n",
              "        <path d=\"M19 3H5c-1.1 0-2 .9-2 2v14c0 1.1.9 2 2 2h14c1.1 0 2-.9 2-2V5c0-1.1-.9-2-2-2zM9 17H7v-7h2v7zm4 0h-2V7h2v10zm4 0h-2v-4h2v4z\"/>\n",
              "    </g>\n",
              "</svg>\n",
              "  </button>\n",
              "\n",
              "<style>\n",
              "  .colab-df-quickchart {\n",
              "      --bg-color: #E8F0FE;\n",
              "      --fill-color: #1967D2;\n",
              "      --hover-bg-color: #E2EBFA;\n",
              "      --hover-fill-color: #174EA6;\n",
              "      --disabled-fill-color: #AAA;\n",
              "      --disabled-bg-color: #DDD;\n",
              "  }\n",
              "\n",
              "  [theme=dark] .colab-df-quickchart {\n",
              "      --bg-color: #3B4455;\n",
              "      --fill-color: #D2E3FC;\n",
              "      --hover-bg-color: #434B5C;\n",
              "      --hover-fill-color: #FFFFFF;\n",
              "      --disabled-bg-color: #3B4455;\n",
              "      --disabled-fill-color: #666;\n",
              "  }\n",
              "\n",
              "  .colab-df-quickchart {\n",
              "    background-color: var(--bg-color);\n",
              "    border: none;\n",
              "    border-radius: 50%;\n",
              "    cursor: pointer;\n",
              "    display: none;\n",
              "    fill: var(--fill-color);\n",
              "    height: 32px;\n",
              "    padding: 0;\n",
              "    width: 32px;\n",
              "  }\n",
              "\n",
              "  .colab-df-quickchart:hover {\n",
              "    background-color: var(--hover-bg-color);\n",
              "    box-shadow: 0 1px 2px rgba(60, 64, 67, 0.3), 0 1px 3px 1px rgba(60, 64, 67, 0.15);\n",
              "    fill: var(--button-hover-fill-color);\n",
              "  }\n",
              "\n",
              "  .colab-df-quickchart-complete:disabled,\n",
              "  .colab-df-quickchart-complete:disabled:hover {\n",
              "    background-color: var(--disabled-bg-color);\n",
              "    fill: var(--disabled-fill-color);\n",
              "    box-shadow: none;\n",
              "  }\n",
              "\n",
              "  .colab-df-spinner {\n",
              "    border: 2px solid var(--fill-color);\n",
              "    border-color: transparent;\n",
              "    border-bottom-color: var(--fill-color);\n",
              "    animation:\n",
              "      spin 1s steps(1) infinite;\n",
              "  }\n",
              "\n",
              "  @keyframes spin {\n",
              "    0% {\n",
              "      border-color: transparent;\n",
              "      border-bottom-color: var(--fill-color);\n",
              "      border-left-color: var(--fill-color);\n",
              "    }\n",
              "    20% {\n",
              "      border-color: transparent;\n",
              "      border-left-color: var(--fill-color);\n",
              "      border-top-color: var(--fill-color);\n",
              "    }\n",
              "    30% {\n",
              "      border-color: transparent;\n",
              "      border-left-color: var(--fill-color);\n",
              "      border-top-color: var(--fill-color);\n",
              "      border-right-color: var(--fill-color);\n",
              "    }\n",
              "    40% {\n",
              "      border-color: transparent;\n",
              "      border-right-color: var(--fill-color);\n",
              "      border-top-color: var(--fill-color);\n",
              "    }\n",
              "    60% {\n",
              "      border-color: transparent;\n",
              "      border-right-color: var(--fill-color);\n",
              "    }\n",
              "    80% {\n",
              "      border-color: transparent;\n",
              "      border-right-color: var(--fill-color);\n",
              "      border-bottom-color: var(--fill-color);\n",
              "    }\n",
              "    90% {\n",
              "      border-color: transparent;\n",
              "      border-bottom-color: var(--fill-color);\n",
              "    }\n",
              "  }\n",
              "</style>\n",
              "\n",
              "  <script>\n",
              "    async function quickchart(key) {\n",
              "      const quickchartButtonEl =\n",
              "        document.querySelector('#' + key + ' button');\n",
              "      quickchartButtonEl.disabled = true;  // To prevent multiple clicks.\n",
              "      quickchartButtonEl.classList.add('colab-df-spinner');\n",
              "      try {\n",
              "        const charts = await google.colab.kernel.invokeFunction(\n",
              "            'suggestCharts', [key], {});\n",
              "      } catch (error) {\n",
              "        console.error('Error during call to suggestCharts:', error);\n",
              "      }\n",
              "      quickchartButtonEl.classList.remove('colab-df-spinner');\n",
              "      quickchartButtonEl.classList.add('colab-df-quickchart-complete');\n",
              "    }\n",
              "    (() => {\n",
              "      let quickchartButtonEl =\n",
              "        document.querySelector('#df-69b261c2-459d-4b21-b878-0d98522597f0 button');\n",
              "      quickchartButtonEl.style.display =\n",
              "        google.colab.kernel.accessAllowed ? 'block' : 'none';\n",
              "    })();\n",
              "  </script>\n",
              "</div>\n",
              "\n",
              "    </div>\n",
              "  </div>\n"
            ],
            "application/vnd.google.colaboratory.intrinsic+json": {
              "type": "dataframe",
              "variable_name": "profiles_df",
              "summary": "{\n  \"name\": \"profiles_df\",\n  \"rows\": 2000,\n  \"fields\": [\n    {\n      \"column\": \"name\",\n      \"properties\": {\n        \"dtype\": \"string\",\n        \"num_unique_values\": 1968,\n        \"samples\": [\n          \"Joseph Wallace\",\n          \"Jason Morris\",\n          \"Susan Watson\"\n        ],\n        \"semantic_type\": \"\",\n        \"description\": \"\"\n      }\n    },\n    {\n      \"column\": \"sex\",\n      \"properties\": {\n        \"dtype\": \"category\",\n        \"num_unique_values\": 2,\n        \"samples\": [\n          \"M\",\n          \"F\"\n        ],\n        \"semantic_type\": \"\",\n        \"description\": \"\"\n      }\n    },\n    {\n      \"column\": \"mail\",\n      \"properties\": {\n        \"dtype\": \"string\",\n        \"num_unique_values\": 1987,\n        \"samples\": [\n          \"fbeck@hotmail.com\",\n          \"sherryelliott@yahoo.com\"\n        ],\n        \"semantic_type\": \"\",\n        \"description\": \"\"\n      }\n    },\n    {\n      \"column\": \"birthdate\",\n      \"properties\": {\n        \"dtype\": \"date\",\n        \"min\": \"1921-07-03 00:00:00\",\n        \"max\": \"2004-04-09 00:00:00\",\n        \"num_unique_values\": 1923,\n        \"samples\": [\n          \"1929-11-09 00:00:00\",\n          \"1922-10-27 00:00:00\"\n        ],\n        \"semantic_type\": \"\",\n        \"description\": \"\"\n      }\n    },\n    {\n      \"column\": \"City\",\n      \"properties\": {\n        \"dtype\": \"category\",\n        \"num_unique_values\": 161,\n        \"samples\": [\n          \"Lower West Side\",\n          \"Camarillo\"\n        ],\n        \"semantic_type\": \"\",\n        \"description\": \"\"\n      }\n    },\n    {\n      \"column\": \"Country\",\n      \"properties\": {\n        \"dtype\": \"category\",\n        \"num_unique_values\": 1,\n        \"samples\": [\n          \"US\"\n        ],\n        \"semantic_type\": \"\",\n        \"description\": \"\"\n      }\n    },\n    {\n      \"column\": \"cc_num\",\n      \"properties\": {\n        \"dtype\": \"number\",\n        \"std\": 290025534516033,\n        \"min\": 4000323325541926,\n        \"max\": 4999763787658689,\n        \"num_unique_values\": 2000,\n        \"samples\": [\n          4462984582363576\n        ],\n        \"semantic_type\": \"\",\n        \"description\": \"\"\n      }\n    }\n  ]\n}"
            }
          },
          "metadata": {},
          "execution_count": 2
        }
      ]
    },
    {
      "cell_type": "markdown",
      "source": [
        "## <span style=\"color:#ff5f27;\"> 💽 1. Loading the Data & Minimal Feature Engineering</span>\n",
        "\n",
        "The data we will use comes from two different CSV files:\n",
        "\n",
        "- `transactions.csv`: transaction information such as timestamp, location, and the amount. Importantly, the binary `fraud_label` variable tells us whether a transaction was fraudulent or not.\n",
        "- `profiles.csv`: credit card user information such as birthdate and city of residence.\n",
        "\n",
        "We can conceptualize these CSV files as originating from separate data sources.\n",
        "**Both files have a credit card number column `cc_num` in common, which we can use for joins.**\n",
        "This could for instance be the age of a customer at the time of a transaction, which combines the `birthdate` feature from `profiles.csv` with the `datetime` feature from `transactions.csv`."
      ],
      "metadata": {
        "id": "EfwtDnL2zAoO"
      }
    },
    {
      "cell_type": "code",
      "source": [
        "import numpy as np\n",
        "\n",
        "# Compute age at transaction.\n",
        "age_df = trans_df.merge(profiles_df, on=\"cc_num\", how=\"left\")\n",
        "trans_df[\"age_at_transaction\"] = (age_df[\"datetime\"] - age_df[\"birthdate\"]) / np.timedelta64(365, \"D\")\n",
        "\n",
        "# Convert date time object to unix epoch in milliseconds\n",
        "trans_df.datetime = trans_df.datetime.values.astype(np.int64) // 10 ** 6"
      ],
      "metadata": {
        "id": "iLtWWwOqy-Dy"
      },
      "execution_count": 3,
      "outputs": []
    },
    {
      "cell_type": "markdown",
      "source": [
        "A [feature group](https://docs.hopsworks.ai/feature-store-api/latest/generated/feature_group/) can be seen as a collection of conceptually related features. In our case, we will create a feature group for the transaction data. It will have `cc_num` as primary key.\n",
        "\n",
        "Before we can create a feature group we need to connect to our feature store."
      ],
      "metadata": {
        "id": "7EAxKL5e0Vbd"
      }
    },
    {
      "cell_type": "code",
      "source": [
        "import hopsworks\n",
        "project = hopsworks.login()\n",
        "fs = project.get_feature_store()"
      ],
      "metadata": {
        "colab": {
          "base_uri": "https://localhost:8080/"
        },
        "id": "HhkteHO20UDh",
        "outputId": "a1e59642-7182-4915-c0ad-39a8152145aa"
      },
      "execution_count": 6,
      "outputs": [
        {
          "output_type": "stream",
          "name": "stdout",
          "text": [
            "Connection closed.\n",
            "Copy your Api Key (first register/login): https://c.app.hopsworks.ai/account/api/generated\n",
            "\n",
            "Paste it here: ··········\n",
            "\n",
            "Logged in to project, explore it here https://c.app.hopsworks.ai:443/p/1214661\n"
          ]
        }
      ]
    },
    {
      "cell_type": "markdown",
      "source": [
        "To create a feature group we need to give it a name and specify a primary key. It is also good to provide a description of the contents of the feature group and a version number, if it is not defined it will automatically be incremented to `1`."
      ],
      "metadata": {
        "id": "XOrtZd541QUl"
      }
    },
    {
      "cell_type": "code",
      "source": [
        "trans_fg = fs.get_or_create_feature_group(\n",
        "    name=\"transactions\",\n",
        "    version=1,\n",
        "    primary_key=[\"cc_num\"],\n",
        "    event_time=\"datetime\"\n",
        ")"
      ],
      "metadata": {
        "id": "LiYz84ia1Cr4"
      },
      "execution_count": 8,
      "outputs": []
    },
    {
      "cell_type": "markdown",
      "source": [
        "At this point, we have only specified some metadata for the feature group. It does not store any data or even have a schema defined for the data. To make the feature group persistent we populate it with its associated data using the `insert` function. We are inserting a single row here."
      ],
      "metadata": {
        "id": "fkW2MnjH1qvj"
      }
    },
    {
      "cell_type": "code",
      "source": [
        "job, _ = trans_fg.insert(trans_df.head(1))"
      ],
      "metadata": {
        "colab": {
          "base_uri": "https://localhost:8080/"
        },
        "id": "d-re3C3i1YnH",
        "outputId": "982450a5-8577-4ab4-cc32-ec8c9ff10e8c"
      },
      "execution_count": 9,
      "outputs": [
        {
          "output_type": "stream",
          "name": "stdout",
          "text": [
            "Feature Group created successfully, explore it at \n",
            "https://c.app.hopsworks.ai:443/p/1214661/fs/1202290/fg/1411616\n"
          ]
        },
        {
          "output_type": "stream",
          "name": "stderr",
          "text": [
            "Uploading Dataframe: 100.00% |██████████| Rows 1/1 | Elapsed Time: 00:00 | Remaining Time: 00:00\n"
          ]
        },
        {
          "output_type": "stream",
          "name": "stdout",
          "text": [
            "Launching job: transactions_1_offline_fg_materialization\n",
            "Job started successfully, you can follow the progress at \n",
            "https://c.app.hopsworks.ai:443/p/1214661/jobs/named/transactions_1_offline_fg_materialization/executions\n"
          ]
        }
      ]
    },
    {
      "cell_type": "markdown",
      "source": [
        "An Expectation Suite in Great Expectations contains multiple expectations which will be evaluated against a DataFrame on validation. This step will generate a report gathering information on whether the DataFrame fulfills those expectations. Setup the validation pipeline using the usual GE object and syntax. Once your expectation suite is ready, register it with the Hopsworks backend."
      ],
      "metadata": {
        "id": "VHN1HLT92Xmt"
      }
    },
    {
      "cell_type": "code",
      "source": [
        "import great_expectations as ge\n",
        "from great_expectations.core import ExpectationSuite, ExpectationConfiguration"
      ],
      "metadata": {
        "id": "-wRutjJp2b2F"
      },
      "execution_count": 10,
      "outputs": []
    },
    {
      "cell_type": "markdown",
      "source": [
        "When prototyping an expectation suite you can use the Great Expectations DataFrame wrapper to evaluate expectations directly and enable auto-complete."
      ],
      "metadata": {
        "id": "7voUFNVB2o5J"
      }
    },
    {
      "cell_type": "code",
      "source": [
        "ge_trans_df = ge.from_pandas(trans_df)"
      ],
      "metadata": {
        "id": "jwy2U9nG2qxh"
      },
      "execution_count": 11,
      "outputs": []
    },
    {
      "cell_type": "code",
      "source": [
        "validation_result = ge_trans_df.expect_column_values_to_be_increasing(\n",
        "    column=\"datetime\",\n",
        "    strictly=False\n",
        ")\n",
        "print(validation_result)"
      ],
      "metadata": {
        "colab": {
          "base_uri": "https://localhost:8080/"
        },
        "id": "doBklYa020B3",
        "outputId": "f69c3735-264d-4ed8-c3b8-5cf0d9b5a97d"
      },
      "execution_count": 12,
      "outputs": [
        {
          "output_type": "stream",
          "name": "stdout",
          "text": [
            "{\n",
            "  \"success\": false,\n",
            "  \"expectation_config\": {\n",
            "    \"expectation_type\": \"expect_column_values_to_be_increasing\",\n",
            "    \"kwargs\": {\n",
            "      \"column\": \"datetime\",\n",
            "      \"strictly\": false,\n",
            "      \"result_format\": \"BASIC\"\n",
            "    },\n",
            "    \"meta\": {}\n",
            "  },\n",
            "  \"result\": {\n",
            "    \"element_count\": 106020,\n",
            "    \"missing_count\": 0,\n",
            "    \"missing_percent\": 0.0,\n",
            "    \"unexpected_count\": 6030,\n",
            "    \"unexpected_percent\": 5.68760611205433,\n",
            "    \"unexpected_percent_total\": 5.68760611205433,\n",
            "    \"unexpected_percent_nonmissing\": 5.68760611205433,\n",
            "    \"partial_unexpected_list\": [\n",
            "      1641371171000,\n",
            "      1641477101000,\n",
            "      1642384099000,\n",
            "      1642523809000,\n",
            "      1643931865000,\n",
            "      1644163781000,\n",
            "      1645852498000,\n",
            "      1642536184000,\n",
            "      1641365200000,\n",
            "      1641424223000,\n",
            "      1643133776000,\n",
            "      1641611869000,\n",
            "      1641855524000,\n",
            "      1643878183000,\n",
            "      1641241959000,\n",
            "      1641401031000,\n",
            "      1644986360000,\n",
            "      1641767720000,\n",
            "      1642210633000,\n",
            "      1641428017000\n",
            "    ]\n",
            "  },\n",
            "  \"meta\": {},\n",
            "  \"exception_info\": {\n",
            "    \"raised_exception\": false,\n",
            "    \"exception_traceback\": null,\n",
            "    \"exception_message\": null\n",
            "  }\n",
            "}\n"
          ]
        }
      ]
    },
    {
      "cell_type": "markdown",
      "source": [
        "Note that this does not append the expectation to the suite, however the result contains all the necessary information to recreate the expectation."
      ],
      "metadata": {
        "id": "nSfJw_t23K4y"
      }
    },
    {
      "cell_type": "code",
      "source": [
        "expectation_suite_trans = ge_trans_df.get_expectation_suite()\n",
        "expectation_suite_trans.expectation_suite_name = \"transaction_suite\"\n",
        "print(expectation_suite_trans)"
      ],
      "metadata": {
        "colab": {
          "base_uri": "https://localhost:8080/"
        },
        "id": "KoLoTl1r2zx5",
        "outputId": "a31618c7-5679-4c22-ff87-aec8eeb93402"
      },
      "execution_count": 18,
      "outputs": [
        {
          "output_type": "stream",
          "name": "stdout",
          "text": [
            "{\n",
            "  \"expectation_suite_name\": \"transaction_suite\",\n",
            "  \"ge_cloud_id\": null,\n",
            "  \"expectations\": [],\n",
            "  \"data_asset_type\": \"Dataset\",\n",
            "  \"meta\": {\n",
            "    \"great_expectations_version\": \"0.18.12\"\n",
            "  }\n",
            "}\n"
          ]
        }
      ]
    },
    {
      "cell_type": "code",
      "source": [
        "expectation_suite_trans.add_expectation(validation_result[\"expectation_config\"])\n",
        "print(expectation_suite_trans)"
      ],
      "metadata": {
        "colab": {
          "base_uri": "https://localhost:8080/"
        },
        "id": "rBz3NAGl31lh",
        "outputId": "14ffcc86-d95b-486f-a97b-1ed21fcc1d4f"
      },
      "execution_count": 19,
      "outputs": [
        {
          "output_type": "stream",
          "name": "stdout",
          "text": [
            "{\n",
            "  \"expectation_suite_name\": \"transaction_suite\",\n",
            "  \"ge_cloud_id\": null,\n",
            "  \"expectations\": [\n",
            "    {\n",
            "      \"expectation_type\": \"expect_column_values_to_be_increasing\",\n",
            "      \"kwargs\": {\n",
            "        \"column\": \"datetime\",\n",
            "        \"strictly\": false,\n",
            "        \"result_format\": \"BASIC\"\n",
            "      },\n",
            "      \"meta\": {}\n",
            "    }\n",
            "  ],\n",
            "  \"data_asset_type\": \"Dataset\",\n",
            "  \"meta\": {\n",
            "    \"great_expectations_version\": \"0.18.12\"\n",
            "  }\n",
            "}\n"
          ]
        }
      ]
    },
    {
      "cell_type": "markdown",
      "source": [
        "You can populate the suite with various expectation configurations. Many standard expectations are implemented in Great Expectations, from computing the mean of a column to counting the number of null values for example."
      ],
      "metadata": {
        "id": "ZASxU2fi3nHa"
      }
    },
    {
      "cell_type": "code",
      "source": [
        "# Check for errors which could lead to technical issues\n",
        "\n",
        "expectation_suite_trans.add_expectation(\n",
        "    ExpectationConfiguration(\n",
        "        expectation_type=\"expect_column_values_to_be_unique\",\n",
        "        kwargs={\"column\":\"tid\", \"result_format\":\"COMPLETE\"}\n",
        "    )\n",
        ")\n",
        "\n",
        "expectation_suite_trans.add_expectation(\n",
        "    ExpectationConfiguration(\n",
        "        expectation_type=\"expect_column_values_to_be_in_set\",\n",
        "        kwargs={\n",
        "            \"column\":\"fraud_label\",\n",
        "            \"value_set\": [0,1]\n",
        "        }\n",
        "    )\n",
        ")\n",
        "\n",
        "# Assess data correctness\n",
        "\n",
        "expectation_suite_trans.add_expectation(\n",
        "    ExpectationConfiguration(\n",
        "        expectation_type=\"expect_column_min_to_be_between\",\n",
        "        kwargs={\n",
        "            \"column\":\"amount\",\n",
        "            \"min_value\": 0\n",
        "        }\n",
        "    )\n",
        ")\n",
        "\n",
        "expectation_suite_trans.add_expectation(\n",
        "    ExpectationConfiguration(\n",
        "        expectation_type=\"expect_column_min_to_be_between\",\n",
        "        kwargs={\n",
        "            \"column\":\"age_at_transaction\",\n",
        "            \"min_value\": 17,\n",
        "            \"max_value\": 130\n",
        "        }\n",
        "    )\n",
        ")\n",
        "\n",
        "# Or simply to monitor data statistics and quality, e.g number of null values\n",
        "\n",
        "expectation_suite_trans.add_expectation(\n",
        "    ExpectationConfiguration(\n",
        "      expectation_type=\"expect_column_mean_to_be_between\",\n",
        "      kwargs={\"column\":\"age_at_transaction\", \"min_value\": 55, \"max_value\": 70}\n",
        "    )\n",
        ")\n",
        "\n",
        "expectation_suite_trans.add_expectation(\n",
        "    ExpectationConfiguration(\n",
        "        expectation_type=\"expect_column_values_to_not_be_null\",\n",
        "        kwargs={\"column\":\"category\"}\n",
        "    )\n",
        ")\n"
      ],
      "metadata": {
        "colab": {
          "base_uri": "https://localhost:8080/"
        },
        "id": "N8sk4Y4w3jqq",
        "outputId": "8bd8a966-f61e-42f4-fbfb-013dbdd8a5b3"
      },
      "execution_count": 20,
      "outputs": [
        {
          "output_type": "execute_result",
          "data": {
            "text/plain": [
              "{\"expectation_type\": \"expect_column_values_to_not_be_null\", \"kwargs\": {\"column\": \"category\"}, \"meta\": {}}"
            ]
          },
          "metadata": {},
          "execution_count": 20
        }
      ]
    },
    {
      "cell_type": "markdown",
      "source": [
        "You can validate and go check your result"
      ],
      "metadata": {
        "id": "BGR7Wbr85RF7"
      }
    },
    {
      "cell_type": "code",
      "source": [
        "ge_trans_df = ge.from_pandas(trans_df, expectation_suite=expectation_suite_trans)\n",
        "\n",
        "validation_report_trans = ge_trans_df.validate()"
      ],
      "metadata": {
        "id": "OEKUfSEi4VJB"
      },
      "execution_count": 21,
      "outputs": []
    },
    {
      "cell_type": "markdown",
      "source": [
        "For complex DataFrames, Great Expectations offers a profiler which generates a basic expectation suite tailored to your data. You can then use this suite as you would any other expectation suite with Hopsworks."
      ],
      "metadata": {
        "id": "IBn2FPgh4Xxi"
      }
    },
    {
      "cell_type": "code",
      "source": [
        "# The \"ALWAYS\" ingestion policy inserts data even when validation fails,\n",
        "# ideal to avoid data loss and rapid prototyping\n",
        "trans_fg.save_expectation_suite(expectation_suite_trans, validation_ingestion_policy=\"ALWAYS\")"
      ],
      "metadata": {
        "colab": {
          "base_uri": "https://localhost:8080/"
        },
        "id": "zM3AyxeQ4Yij",
        "outputId": "aee424e2-c478-4065-be22-8b1ce23d2f5a"
      },
      "execution_count": 23,
      "outputs": [
        {
          "output_type": "stream",
          "name": "stdout",
          "text": [
            "Attached expectation suite to Feature Group, edit it at https://c.app.hopsworks.ai:443/p/1214661/fs/1202290/fg/1411616\n"
          ]
        }
      ]
    },
    {
      "cell_type": "markdown",
      "source": [
        "Once the suite is registered in the backend, data validation will run on every insert without additional boilerplate. The suite is retrieved from the backend, used to validate the DataFrame and the resulting validation report uploaded. Depending on the ingestion policy and validation success, data are subsequently inserted in the Feature Group. The example below illustrate the \"ALWAYS\" use case where insertion is performed despite a validation failure."
      ],
      "metadata": {
        "id": "JapjgZe14ubV"
      }
    },
    {
      "cell_type": "code",
      "source": [
        "trans_job, trans_report = trans_fg.insert(trans_df)"
      ],
      "metadata": {
        "colab": {
          "base_uri": "https://localhost:8080/"
        },
        "id": "lTdw2n_o4vyT",
        "outputId": "9359388a-5a11-4ae8-e2f8-29d7a8ae3782"
      },
      "execution_count": 24,
      "outputs": [
        {
          "output_type": "stream",
          "name": "stdout",
          "text": [
            "Validation failed.\n",
            "Validation Report saved successfully, explore a summary at https://c.app.hopsworks.ai:443/p/1214661/fs/1202290/fg/1411616\n"
          ]
        },
        {
          "output_type": "stream",
          "name": "stderr",
          "text": [
            "Uploading Dataframe: 100.00% |██████████| Rows 106020/106020 | Elapsed Time: 00:05 | Remaining Time: 00:00\n"
          ]
        },
        {
          "output_type": "stream",
          "name": "stdout",
          "text": [
            "Launching job: transactions_1_offline_fg_materialization\n",
            "Job started successfully, you can follow the progress at \n",
            "https://c.app.hopsworks.ai:443/p/1214661/jobs/named/transactions_1_offline_fg_materialization/executions\n"
          ]
        }
      ]
    },
    {
      "cell_type": "markdown",
      "source": [
        "The \"STRICTLY\" ingestion policy aborts insertion job if the validation fails. However it still uploads the report to Hopsworks so you can check the UI to understand what went wrong and have a record of your attempt."
      ],
      "metadata": {
        "id": "Wqd3dYr15lT4"
      }
    },
    {
      "cell_type": "code",
      "source": [
        "# Find the culprit (easier done through the UI)\n",
        "culprit = [result for result in trans_report.results if result.success is False][0]\n",
        "print(f\"culprit is expectation {culprit.expectation_config['meta']['expectationId']}, with type {culprit.expectation_config['expectation_type']} applied to column {culprit.expectation_config['kwargs']['column']}\")"
      ],
      "metadata": {
        "colab": {
          "base_uri": "https://localhost:8080/"
        },
        "id": "p-YVZIQu5mA3",
        "outputId": "96e41eb2-d76e-48b7-a4cf-2ff0b80ae87e"
      },
      "execution_count": 27,
      "outputs": [
        {
          "output_type": "stream",
          "name": "stdout",
          "text": [
            "culprit is expectation 700436, with type expect_column_values_to_be_increasing applied to column datetime\n"
          ]
        }
      ]
    },
    {
      "cell_type": "code",
      "source": [
        "# We need to sort the datetime column to fix it\n",
        "trans_df.sort_values(by=[\"datetime\"], inplace=True)\n",
        "\n",
        "trans_job, trans_report = trans_fg.insert(trans_df)\n",
        "#Check the UI"
      ],
      "metadata": {
        "colab": {
          "base_uri": "https://localhost:8080/"
        },
        "id": "uHu_xX9Z57Dn",
        "outputId": "9888af04-3fd6-4858-b3da-71a611bfd597"
      },
      "execution_count": 29,
      "outputs": [
        {
          "output_type": "stream",
          "name": "stdout",
          "text": [
            "Validation succeeded.\n",
            "Validation Report saved successfully, explore a summary at https://c.app.hopsworks.ai:443/p/1214661/fs/1202290/fg/1411616\n"
          ]
        },
        {
          "output_type": "stream",
          "name": "stderr",
          "text": [
            "Uploading Dataframe: 100.00% |██████████| Rows 106020/106020 | Elapsed Time: 00:07 | Remaining Time: 00:00\n",
            "WARNING:py.warnings:UserWarning: Materialization job is already running, aborting new execution.Please wait for the current execution to finish before triggering a new one.You can check the status of the current execution using `fg.materialization_job.get_state()`.or `fg.materialization_job.get_final_state()` or check it out in the Hopsworks UI.at https://c.app.hopsworks.ai:443/p/1214661/jobs/named/transactions_1_offline_fg_materialization.\n",
            "Use fg.materialization_job.run(args=-op offline_fg_materialization -path hdfs:///Projects/data_science/Resources/jobs/transactions_1_offline_fg_materialization/config_1741707244296) to trigger the materialization job again.\n",
            "\n"
          ]
        }
      ]
    }
  ]
}